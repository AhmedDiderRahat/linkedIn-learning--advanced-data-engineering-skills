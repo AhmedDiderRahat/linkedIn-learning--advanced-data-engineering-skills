{
  "nbformat": 4,
  "nbformat_minor": 0,
  "metadata": {
    "colab": {
      "provenance": []
    },
    "kernelspec": {
      "name": "python3",
      "display_name": "Python 3"
    },
    "language_info": {
      "name": "python"
    }
  },
  "cells": [
    {
      "cell_type": "code",
      "source": [
        "import pandas as pd"
      ],
      "metadata": {
        "id": "GbyPj5Wsph2A"
      },
      "execution_count": null,
      "outputs": []
    },
    {
      "cell_type": "code",
      "source": [
        "!ls"
      ],
      "metadata": {
        "colab": {
          "base_uri": "https://localhost:8080/"
        },
        "id": "DpLsbTv2pp9F",
        "outputId": "b3127b81-9c66-48da-8d3c-ba7b5d87bc83"
      },
      "execution_count": null,
      "outputs": [
        {
          "output_type": "stream",
          "name": "stdout",
          "text": [
            "sample_data\n"
          ]
        }
      ]
    },
    {
      "cell_type": "code",
      "source": [
        "!pip install pyspark==3.4.0"
      ],
      "metadata": {
        "colab": {
          "base_uri": "https://localhost:8080/"
        },
        "id": "1KGbKWcVp3-k",
        "outputId": "fccf99ac-63c0-4eae-eccc-c0ad3dd76bbf"
      },
      "execution_count": null,
      "outputs": [
        {
          "output_type": "stream",
          "name": "stdout",
          "text": [
            "Collecting pyspark==3.4.0\n",
            "  Downloading pyspark-3.4.0.tar.gz (310.8 MB)\n",
            "\u001b[2K     \u001b[90m━━━━━━━━━━━━━━━━━━━━━━━━━━━━━━━━━━━━━━━\u001b[0m \u001b[32m310.8/310.8 MB\u001b[0m \u001b[31m2.5 MB/s\u001b[0m eta \u001b[36m0:00:00\u001b[0m\n",
            "\u001b[?25h  Preparing metadata (setup.py) ... \u001b[?25l\u001b[?25hdone\n",
            "Requirement already satisfied: py4j==0.10.9.7 in /usr/local/lib/python3.10/dist-packages (from pyspark==3.4.0) (0.10.9.7)\n",
            "Building wheels for collected packages: pyspark\n",
            "  Building wheel for pyspark (setup.py) ... \u001b[?25l\u001b[?25hdone\n",
            "  Created wheel for pyspark: filename=pyspark-3.4.0-py2.py3-none-any.whl size=311317123 sha256=77afeadd649003bffd46647edf27677e8413e9f5786c15070012ac45c8a441bf\n",
            "  Stored in directory: /root/.cache/pip/wheels/7b/1b/4b/3363a1d04368e7ff0d408e57ff57966fcdf00583774e761327\n",
            "Successfully built pyspark\n",
            "Installing collected packages: pyspark\n",
            "Successfully installed pyspark-3.4.0\n"
          ]
        }
      ]
    },
    {
      "cell_type": "code",
      "source": [
        "from pyspark.sql import SparkSession\n",
        "spark = SparkSession.builder.master(\"local[*]\").getOrCreate()\n",
        "spark"
      ],
      "metadata": {
        "colab": {
          "base_uri": "https://localhost:8080/",
          "height": 219
        },
        "id": "oOWDnbA5qHFF",
        "outputId": "3b9efea5-09e1-426f-e705-841deb247adb"
      },
      "execution_count": null,
      "outputs": [
        {
          "output_type": "execute_result",
          "data": {
            "text/plain": [
              "<pyspark.sql.session.SparkSession at 0x7f810c4690c0>"
            ],
            "text/html": [
              "\n",
              "            <div>\n",
              "                <p><b>SparkSession - in-memory</b></p>\n",
              "                \n",
              "        <div>\n",
              "            <p><b>SparkContext</b></p>\n",
              "\n",
              "            <p><a href=\"http://4fd6c5b0baa8:4040\">Spark UI</a></p>\n",
              "\n",
              "            <dl>\n",
              "              <dt>Version</dt>\n",
              "                <dd><code>v3.4.0</code></dd>\n",
              "              <dt>Master</dt>\n",
              "                <dd><code>local[*]</code></dd>\n",
              "              <dt>AppName</dt>\n",
              "                <dd><code>pyspark-shell</code></dd>\n",
              "            </dl>\n",
              "        </div>\n",
              "        \n",
              "            </div>\n",
              "        "
            ]
          },
          "metadata": {},
          "execution_count": 4
        }
      ]
    },
    {
      "cell_type": "markdown",
      "source": [
        "### Working with Dates"
      ],
      "metadata": {
        "id": "zz2s6gEQEj7V"
      }
    },
    {
      "cell_type": "markdown",
      "source": [],
      "metadata": {
        "id": "yW4WitPPEgyF"
      }
    },
    {
      "cell_type": "code",
      "source": [
        "from pyspark.sql.functions import to_date, to_timestamp,col,lit\n",
        "\n",
        "# cristmass date: 2019-12-25 13:30:00\n",
        "\n",
        "df = spark.createDataFrame([('2019-12-25 13:30:00',)], ['Crismass'])\n",
        "df.show(1)"
      ],
      "metadata": {
        "colab": {
          "base_uri": "https://localhost:8080/"
        },
        "id": "PBkIf2wetbQO",
        "outputId": "391b4b9e-2d97-4e7d-bedb-c3cc44379144"
      },
      "execution_count": null,
      "outputs": [
        {
          "output_type": "stream",
          "name": "stdout",
          "text": [
            "+-------------------+\n",
            "|           Crismass|\n",
            "+-------------------+\n",
            "|2019-12-25 13:30:00|\n",
            "+-------------------+\n",
            "\n"
          ]
        }
      ]
    },
    {
      "cell_type": "code",
      "source": [
        "df.select(to_date(col('Crismass'), 'yyyy-MM-dd HH:mm:ss'), to_timestamp(col('Crismass'), 'yyyy-MM-dd HH:mm:ss')).show(1)"
      ],
      "metadata": {
        "colab": {
          "base_uri": "https://localhost:8080/"
        },
        "id": "0DC3OI73t0bX",
        "outputId": "2a502a6c-9415-4769-bf46-f4b54b79e4a5"
      },
      "execution_count": null,
      "outputs": [
        {
          "output_type": "stream",
          "name": "stdout",
          "text": [
            "+--------------------------------------+-------------------------------------------+\n",
            "|to_date(Crismass, yyyy-MM-dd HH:mm:ss)|to_timestamp(Crismass, yyyy-MM-dd HH:mm:ss)|\n",
            "+--------------------------------------+-------------------------------------------+\n",
            "|                            2019-12-25|                        2019-12-25 13:30:00|\n",
            "+--------------------------------------+-------------------------------------------+\n",
            "\n"
          ]
        }
      ]
    },
    {
      "cell_type": "code",
      "source": [
        "# cristmass date: 25/Dec/2019 13:30:00\n",
        "df = spark.createDataFrame([('25/Dec/2019 13:30:00',)], ['Crismass'])\n",
        "df.show(1)"
      ],
      "metadata": {
        "id": "Kxo2LPLSXINb",
        "colab": {
          "base_uri": "https://localhost:8080/"
        },
        "outputId": "83320fbd-41b3-44e4-a78a-24ac0dfb9080"
      },
      "execution_count": null,
      "outputs": [
        {
          "output_type": "stream",
          "name": "stdout",
          "text": [
            "+--------------------+\n",
            "|            Crismass|\n",
            "+--------------------+\n",
            "|25/Dec/2019 13:30:00|\n",
            "+--------------------+\n",
            "\n"
          ]
        }
      ]
    },
    {
      "cell_type": "code",
      "source": [
        "df.select(to_date(col('Crismass'), 'dd/MMM/yyyy HH:mm:ss'), to_timestamp(col('Crismass'), 'dd/MMM/yyyy HH:mm:ss')).show(1)"
      ],
      "metadata": {
        "colab": {
          "base_uri": "https://localhost:8080/"
        },
        "id": "G4UMGF4AH02G",
        "outputId": "39b02e8e-b830-45c6-cdb5-f43f7a65a79c"
      },
      "execution_count": null,
      "outputs": [
        {
          "output_type": "stream",
          "name": "stdout",
          "text": [
            "+---------------------------------------+--------------------------------------------+\n",
            "|to_date(Crismass, dd/MMM/yyyy HH:mm:ss)|to_timestamp(Crismass, dd/MMM/yyyy HH:mm:ss)|\n",
            "+---------------------------------------+--------------------------------------------+\n",
            "|                             2019-12-25|                         2019-12-25 13:30:00|\n",
            "+---------------------------------------+--------------------------------------------+\n",
            "\n"
          ]
        }
      ]
    },
    {
      "cell_type": "code",
      "source": [
        "# cristmass date: 12/25/2019 13:30:00\n",
        "df = spark.createDataFrame([('12/25/2019 13:30:00',)], ['Crismass'])\n",
        "df.show(1)"
      ],
      "metadata": {
        "colab": {
          "base_uri": "https://localhost:8080/"
        },
        "id": "jMEt-Xj5IB-v",
        "outputId": "8b350b7b-8223-451a-aa2f-17386a2aeeef"
      },
      "execution_count": null,
      "outputs": [
        {
          "output_type": "stream",
          "name": "stdout",
          "text": [
            "+-------------------+\n",
            "|           Crismass|\n",
            "+-------------------+\n",
            "|12/25/2019 13:30:00|\n",
            "+-------------------+\n",
            "\n"
          ]
        }
      ]
    },
    {
      "cell_type": "code",
      "source": [
        "df.select(to_date(col('Crismass'), 'MM/dd/yyyy HH:mm:ss'), to_timestamp(col('Crismass'), 'MM/dd/yyyy HH:mm:ss')).show(1)"
      ],
      "metadata": {
        "colab": {
          "base_uri": "https://localhost:8080/"
        },
        "id": "I1Q_YSkuJECu",
        "outputId": "b1d2166d-b47e-40ea-8510-1d91f646be78"
      },
      "execution_count": null,
      "outputs": [
        {
          "output_type": "stream",
          "name": "stdout",
          "text": [
            "+--------------------------------------+-------------------------------------------+\n",
            "|to_date(Crismass, MM/dd/yyyy HH:mm:ss)|to_timestamp(Crismass, MM/dd/yyyy HH:mm:ss)|\n",
            "+--------------------------------------+-------------------------------------------+\n",
            "|                            2019-12-25|                        2019-12-25 13:30:00|\n",
            "+--------------------------------------+-------------------------------------------+\n",
            "\n"
          ]
        }
      ]
    }
  ]
}