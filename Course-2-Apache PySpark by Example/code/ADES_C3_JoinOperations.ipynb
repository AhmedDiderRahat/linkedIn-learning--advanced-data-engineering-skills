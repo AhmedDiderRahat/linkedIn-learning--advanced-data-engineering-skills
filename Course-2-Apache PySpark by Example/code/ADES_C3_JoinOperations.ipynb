{
 "cells": [
  {
   "cell_type": "code",
   "execution_count": 3,
   "id": "5f4e2550",
   "metadata": {},
   "outputs": [],
   "source": [
    "import requests\n",
    "from tqdm import tqdm\n",
    "from pyspark.sql import SparkSession"
   ]
  },
  {
   "cell_type": "code",
   "execution_count": 5,
   "id": "fb6d89db",
   "metadata": {},
   "outputs": [
    {
     "data": {
      "text/html": [
       "\n",
       "            <div>\n",
       "                <p><b>SparkSession - in-memory</b></p>\n",
       "                \n",
       "        <div>\n",
       "            <p><b>SparkContext</b></p>\n",
       "\n",
       "            <p><a href=\"http://DESKTOP-UI2D542:4042\">Spark UI</a></p>\n",
       "\n",
       "            <dl>\n",
       "              <dt>Version</dt>\n",
       "                <dd><code>v3.4.1</code></dd>\n",
       "              <dt>Master</dt>\n",
       "                <dd><code>local[*]</code></dd>\n",
       "              <dt>AppName</dt>\n",
       "                <dd><code>pyspark-shell</code></dd>\n",
       "            </dl>\n",
       "        </div>\n",
       "        \n",
       "            </div>\n",
       "        "
      ],
      "text/plain": [
       "<pyspark.sql.session.SparkSession at 0x2ba86c25c10>"
      ]
     },
     "execution_count": 5,
     "metadata": {},
     "output_type": "execute_result"
    }
   ],
   "source": [
    "# create pyspark session\n",
    "spark = SparkSession.builder.master(\"local[*]\").getOrCreate()\n",
    "spark"
   ]
  },
  {
   "cell_type": "code",
   "execution_count": 6,
   "id": "b55d3dfa",
   "metadata": {},
   "outputs": [
    {
     "name": "stderr",
     "output_type": "stream",
     "text": [
      "Downloading: 5.57kB [00:00, 5.72MB/s]"
     ]
    },
    {
     "name": "stdout",
     "output_type": "stream",
     "text": [
      "Download completed.\n"
     ]
    },
    {
     "name": "stderr",
     "output_type": "stream",
     "text": [
      "\n"
     ]
    }
   ],
   "source": [
    "import requests\n",
    "from tqdm import tqdm\n",
    "\n",
    "url = 'https://data.cityofchicago.org/api/views/z8bn-74gv/rows.csv?accessType=DOWNLOAD'\n",
    "response = requests.get(url, stream=True)\n",
    "\n",
    "if response.status_code == 200:\n",
    "    total_size = int(response.headers.get('content-length', 0))\n",
    "    chunk_size = 1024  # You can adjust the chunk size as needed.\n",
    "    \n",
    "    with open('police-stations.csv', 'wb') as file, tqdm(\n",
    "        desc='Downloading',\n",
    "        total=total_size,\n",
    "        unit='B',\n",
    "        unit_scale=True,\n",
    "        unit_divisor=1024,\n",
    "    ) as bar:\n",
    "        for data in response.iter_content(chunk_size=chunk_size):\n",
    "            file.write(data)\n",
    "            bar.update(len(data))\n",
    "else:\n",
    "    print(f\"Failed to download the file. Status code: {response.status_code}\")\n",
    "\n",
    "print(\"Download completed.\")"
   ]
  },
  {
   "cell_type": "code",
   "execution_count": 9,
   "id": "f5d30245",
   "metadata": {},
   "outputs": [
    {
     "name": "stdout",
     "output_type": "stream",
     "text": [
      "+------------+-------------+-------------------+-------+-----+-----+--------------------+------------+------------+------------+------------+------------+-----------+------------+--------------------+\n",
      "|    DISTRICT|DISTRICT NAME|            ADDRESS|   CITY|STATE|  ZIP|             WEBSITE|       PHONE|         FAX|         TTY|X COORDINATE|Y COORDINATE|   LATITUDE|   LONGITUDE|            LOCATION|\n",
      "+------------+-------------+-------------------+-------+-----+-----+--------------------+------------+------------+------------+------------+------------+-----------+------------+--------------------+\n",
      "|Headquarters| Headquarters|3510 S Michigan Ave|Chicago|   IL|60653|http://home.chica...|        null|        null|        null| 1177731.401| 1881697.404|41.83070169|-87.62339535|(41.8307016873, -...|\n",
      "|          18|   Near North| 1160 N Larrabee St|Chicago|   IL|60610|http://home.chica...|312-742-5870|312-742-5771|312-742-5773| 1172080.029| 1908086.527|41.90324165|-87.64335214|(41.9032416531, -...|\n",
      "|          19|    Town Hall|   850 W Addison St|Chicago|   IL|60613|http://home.chica...|312-744-8320|312-744-4481|312-744-8011| 1169730.744| 1924160.317|41.94740046|-87.65151202|(41.9474004564, -...|\n",
      "|          20|      Lincoln| 5400 N Lincoln Ave|Chicago|   IL|60625|http://home.chica...|312-742-8714|312-742-8803|312-742-8841| 1158399.146| 1935788.826|41.97954951|-87.69284451|(41.9795495131, -...|\n",
      "|          22|  Morgan Park|1900 W Monterey Ave|Chicago|   IL|60643|http://home.chica...|312-745-0710|312-745-0814|312-745-0569| 1165825.476| 1830851.333|41.69143478|-87.66852039|(41.6914347795, -...|\n",
      "+------------+-------------+-------------------+-------+-----+-----+--------------------+------------+------------+------------+------------+------------+-----------+------------+--------------------+\n",
      "only showing top 5 rows\n",
      "\n"
     ]
    }
   ],
   "source": [
    "ps = spark.read.csv('police-stations.csv', header=True)\n",
    "ps.show(5)"
   ]
  },
  {
   "cell_type": "code",
   "execution_count": 11,
   "id": "75044653",
   "metadata": {},
   "outputs": [
    {
     "name": "stdout",
     "output_type": "stream",
     "text": [
      "+------------+-------------+\n",
      "|    DISTRICT|DISTRICT NAME|\n",
      "+------------+-------------+\n",
      "|Headquarters| Headquarters|\n",
      "|          18|   Near North|\n",
      "|          19|    Town Hall|\n",
      "|          20|      Lincoln|\n",
      "|          22|  Morgan Park|\n",
      "+------------+-------------+\n",
      "only showing top 5 rows\n",
      "\n"
     ]
    }
   ],
   "source": [
    "# only see the disticnt and its names\n",
    "ps.select('DISTRICT', 'DISTRICT NAME').show(5)"
   ]
  },
  {
   "cell_type": "code",
   "execution_count": 13,
   "id": "a10cdf43",
   "metadata": {},
   "outputs": [],
   "source": [
    "# read df from reported-crime\n",
    "from pyspark.sql.functions import to_timestamp, col, lit\n",
    "\n",
    "df = spark.read.csv('reported-crimes.csv',header=True).withColumn('Date',to_timestamp(col('Date'),'MM/dd/yyyy hh:mm:ss a')).filter(col('Date') <= lit('2018-11-11'))"
   ]
  },
  {
   "cell_type": "code",
   "execution_count": 17,
   "id": "632c6838",
   "metadata": {},
   "outputs": [
    {
     "data": {
      "text/plain": [
       "6756594"
      ]
     },
     "execution_count": 17,
     "metadata": {},
     "output_type": "execute_result"
    }
   ],
   "source": [
    "# for lazy evaluation\n",
    "from pyspark.sql.functions import count\n",
    "df.cache()\n",
    "df.count()"
   ]
  },
  {
   "cell_type": "code",
   "execution_count": 19,
   "id": "945c340a",
   "metadata": {},
   "outputs": [
    {
     "name": "stdout",
     "output_type": "stream",
     "text": [
      "+--------+\n",
      "|District|\n",
      "+--------+\n",
      "|     006|\n",
      "|     008|\n",
      "|     019|\n",
      "|     018|\n",
      "|     008|\n",
      "|     004|\n",
      "|     002|\n",
      "|     002|\n",
      "|     025|\n",
      "|     003|\n",
      "+--------+\n",
      "only showing top 10 rows\n",
      "\n"
     ]
    }
   ],
   "source": [
    "df.select('District').show(10)"
   ]
  },
  {
   "cell_type": "markdown",
   "id": "8e0453e3",
   "metadata": {},
   "source": [
    "Here, in the df the district has 4 char and in police its a number, so need to pad"
   ]
  },
  {
   "cell_type": "code",
   "execution_count": 21,
   "id": "4565a316",
   "metadata": {},
   "outputs": [
    {
     "name": "stdout",
     "output_type": "stream",
     "text": [
      "+--------------------+\n",
      "|lpad(DISTRICT, 3, 0)|\n",
      "+--------------------+\n",
      "|                 Hea|\n",
      "|                 018|\n",
      "|                 019|\n",
      "|                 020|\n",
      "|                 022|\n",
      "|                 024|\n",
      "|                 025|\n",
      "|                 001|\n",
      "|                 002|\n",
      "|                 003|\n",
      "|                 004|\n",
      "|                 005|\n",
      "|                 006|\n",
      "|                 007|\n",
      "|                 008|\n",
      "|                 009|\n",
      "|                 010|\n",
      "|                 011|\n",
      "|                 012|\n",
      "|                 \",C|\n",
      "+--------------------+\n",
      "only showing top 20 rows\n",
      "\n"
     ]
    }
   ],
   "source": [
    "from pyspark.sql.functions import lpad\n",
    "\n",
    "ps.select(lpad(col('DISTRICT'), 3, '0')).show(20) "
   ]
  },
  {
   "cell_type": "code",
   "execution_count": 22,
   "id": "8675520b",
   "metadata": {},
   "outputs": [
    {
     "name": "stdout",
     "output_type": "stream",
     "text": [
      "+------------+-------------+-------------------+-------+-----+-----+--------------------+------------+------------+------------+------------+------------+-----------+------------+--------------------+---------------+\n",
      "|    DISTRICT|DISTRICT NAME|            ADDRESS|   CITY|STATE|  ZIP|             WEBSITE|       PHONE|         FAX|         TTY|X COORDINATE|Y COORDINATE|   LATITUDE|   LONGITUDE|            LOCATION|Format_district|\n",
      "+------------+-------------+-------------------+-------+-----+-----+--------------------+------------+------------+------------+------------+------------+-----------+------------+--------------------+---------------+\n",
      "|Headquarters| Headquarters|3510 S Michigan Ave|Chicago|   IL|60653|http://home.chica...|        null|        null|        null| 1177731.401| 1881697.404|41.83070169|-87.62339535|(41.8307016873, -...|            Hea|\n",
      "|          18|   Near North| 1160 N Larrabee St|Chicago|   IL|60610|http://home.chica...|312-742-5870|312-742-5771|312-742-5773| 1172080.029| 1908086.527|41.90324165|-87.64335214|(41.9032416531, -...|            018|\n",
      "|          19|    Town Hall|   850 W Addison St|Chicago|   IL|60613|http://home.chica...|312-744-8320|312-744-4481|312-744-8011| 1169730.744| 1924160.317|41.94740046|-87.65151202|(41.9474004564, -...|            019|\n",
      "|          20|      Lincoln| 5400 N Lincoln Ave|Chicago|   IL|60625|http://home.chica...|312-742-8714|312-742-8803|312-742-8841| 1158399.146| 1935788.826|41.97954951|-87.69284451|(41.9795495131, -...|            020|\n",
      "|          22|  Morgan Park|1900 W Monterey Ave|Chicago|   IL|60643|http://home.chica...|312-745-0710|312-745-0814|312-745-0569| 1165825.476| 1830851.333|41.69143478|-87.66852039|(41.6914347795, -...|            022|\n",
      "+------------+-------------+-------------------+-------+-----+-----+--------------------+------------+------------+------------+------------+------------+-----------+------------+--------------------+---------------+\n",
      "only showing top 5 rows\n",
      "\n"
     ]
    }
   ],
   "source": [
    "ps = ps.withColumn('Format_district', lpad(col('DISTRICT'), 3, '0'))\n",
    "ps.show(5)"
   ]
  },
  {
   "cell_type": "code",
   "execution_count": 23,
   "id": "7bad85eb",
   "metadata": {},
   "outputs": [
    {
     "name": "stdout",
     "output_type": "stream",
     "text": [
      "+--------+-----------+-------------------+--------------------+----+------------------+--------------------+--------------------+------+--------+----+--------+----+--------------+--------+------------+------------+----+--------------------+--------+---------+--------+--------+-------------+------------------+-------+-----+-----+--------------------+------------+------------+------------+------------+------------+-----------+------------+--------------------+---------------+\n",
      "|      ID|Case Number|               Date|               Block|IUCR|      Primary Type|         Description|Location Description|Arrest|Domestic|Beat|District|Ward|Community Area|FBI Code|X Coordinate|Y Coordinate|Year|          Updated On|Latitude|Longitude|Location|DISTRICT|DISTRICT NAME|           ADDRESS|   CITY|STATE|  ZIP|             WEBSITE|       PHONE|         FAX|         TTY|X COORDINATE|Y COORDINATE|   LATITUDE|   LONGITUDE|            LOCATION|Format_district|\n",
      "+--------+-----------+-------------------+--------------------+----+------------------+--------------------+--------------------+------+--------+----+--------+----+--------------+--------+------------+------------+----+--------------------+--------+---------+--------+--------+-------------+------------------+-------+-----+-----+--------------------+------------+------------+------------+------------+------------+-----------+------------+--------------------+---------------+\n",
      "|11646166|   JC213529|2018-09-01 00:01:00|082XX S INGLESIDE...|0810|             THEFT|           OVER $500|           RESIDENCE| false|    true|0631|     006|   8|            44|      06|        null|        null|2018|04/06/2019 04:04:...|    null|     null|    null|       6|      Gresham| 7808 S Halsted St|Chicago|   IL|60620|http://home.chica...|312-745-3617|312-745-3649|312-745-3639| 1172283.013| 1853022.646|41.75213684|-87.64422891|(41.7521368378, -...|            006|\n",
      "|11645836|   JC212333|2016-05-01 00:25:00| 055XX S ROCKWELL ST|1153|DECEPTIVE PRACTICE|FINANCIAL IDENTIT...|                null| false|   false|0824|     008|  15|            63|      11|        null|        null|2016|04/06/2019 04:04:...|    null|     null|    null|       8| Chicago Lawn|    3420 W 63rd St|Chicago|   IL|60629|http://home.chica...|312-747-8730|312-747-8545|312-747-8116| 1154575.242| 1862672.049|41.77898719|-87.70886382|(41.778987189, -8...|            008|\n",
      "|11243268|   JB167760|2017-01-01 00:01:00|    047XX N CLARK ST|1562|       SEX OFFENSE|AGG CRIMINAL SEXU...|           APARTMENT| false|   false|1913|     019|  47|             3|      17|        null|        null|2017|09/13/2018 03:56:...|    null|     null|    null|      19|    Town Hall|  850 W Addison St|Chicago|   IL|60613|http://home.chica...|312-744-8320|312-744-4481|312-744-8011| 1169730.744| 1924160.317|41.94740046|-87.65151202|(41.9474004564, -...|            019|\n",
      "| 1896258|    G749215|2001-12-15 02:00:00|    011XX N STATE ST|0460|           BATTERY|              SIMPLE|              STREET| false|   false|1824|     018|null|          null|     08B|        null|        null|2001|08/17/2015 03:03:...|    null|     null|    null|      18|   Near North|1160 N Larrabee St|Chicago|   IL|60610|http://home.chica...|312-742-5870|312-742-5771|312-742-5773| 1172080.029| 1908086.527|41.90324165|-87.64335214|(41.9032416531, -...|            018|\n",
      "|11645527|   JC212744|2015-02-02 10:00:00|  069XX W ARCHER AVE|1153|DECEPTIVE PRACTICE|FINANCIAL IDENTIT...|               OTHER| false|   false|0811|     008|  23|            56|      11|        null|        null|2015|04/06/2019 04:04:...|    null|     null|    null|       8| Chicago Lawn|    3420 W 63rd St|Chicago|   IL|60629|http://home.chica...|312-747-8730|312-747-8545|312-747-8116| 1154575.242| 1862672.049|41.77898719|-87.70886382|(41.778987189, -8...|            008|\n",
      "+--------+-----------+-------------------+--------------------+----+------------------+--------------------+--------------------+------+--------+----+--------+----+--------------+--------+------------+------------+----+--------------------+--------+---------+--------+--------+-------------+------------------+-------+-----+-----+--------------------+------------+------------+------------+------------+------------+-----------+------------+--------------------+---------------+\n",
      "only showing top 5 rows\n",
      "\n"
     ]
    }
   ],
   "source": [
    "# join df and ps\n",
    "\n",
    "df.join(ps, df.District == ps.Format_district, 'left_outer').show(5)"
   ]
  },
  {
   "cell_type": "code",
   "execution_count": 24,
   "id": "50f1fed1",
   "metadata": {},
   "outputs": [
    {
     "data": {
      "text/plain": [
       "['DISTRICT',\n",
       " 'DISTRICT NAME',\n",
       " 'ADDRESS',\n",
       " 'CITY',\n",
       " 'STATE',\n",
       " 'ZIP',\n",
       " 'WEBSITE',\n",
       " 'PHONE',\n",
       " 'FAX',\n",
       " 'TTY',\n",
       " 'X COORDINATE',\n",
       " 'Y COORDINATE',\n",
       " 'LATITUDE',\n",
       " 'LONGITUDE',\n",
       " 'LOCATION',\n",
       " 'Format_district']"
      ]
     },
     "execution_count": 24,
     "metadata": {},
     "output_type": "execute_result"
    }
   ],
   "source": [
    "ps.columns"
   ]
  },
  {
   "cell_type": "code",
   "execution_count": 25,
   "id": "91bb59d7",
   "metadata": {},
   "outputs": [
    {
     "name": "stdout",
     "output_type": "stream",
     "text": [
      "+--------+-----------+-------------------+--------------------+----+------------------+--------------------+--------------------+------+--------+----+--------+----+--------------+--------+----+--------------------+--------+-------------+---------------+\n",
      "|      ID|Case Number|               Date|               Block|IUCR|      Primary Type|         Description|Location Description|Arrest|Domestic|Beat|District|Ward|Community Area|FBI Code|Year|          Updated On|DISTRICT|DISTRICT NAME|Format_district|\n",
      "+--------+-----------+-------------------+--------------------+----+------------------+--------------------+--------------------+------+--------+----+--------+----+--------------+--------+----+--------------------+--------+-------------+---------------+\n",
      "|11646166|   JC213529|2018-09-01 00:01:00|082XX S INGLESIDE...|0810|             THEFT|           OVER $500|           RESIDENCE| false|    true|0631|     006|   8|            44|      06|2018|04/06/2019 04:04:...|       6|      Gresham|            006|\n",
      "|11645836|   JC212333|2016-05-01 00:25:00| 055XX S ROCKWELL ST|1153|DECEPTIVE PRACTICE|FINANCIAL IDENTIT...|                null| false|   false|0824|     008|  15|            63|      11|2016|04/06/2019 04:04:...|       8| Chicago Lawn|            008|\n",
      "|11243268|   JB167760|2017-01-01 00:01:00|    047XX N CLARK ST|1562|       SEX OFFENSE|AGG CRIMINAL SEXU...|           APARTMENT| false|   false|1913|     019|  47|             3|      17|2017|09/13/2018 03:56:...|      19|    Town Hall|            019|\n",
      "| 1896258|    G749215|2001-12-15 02:00:00|    011XX N STATE ST|0460|           BATTERY|              SIMPLE|              STREET| false|   false|1824|     018|null|          null|     08B|2001|08/17/2015 03:03:...|      18|   Near North|            018|\n",
      "|11645527|   JC212744|2015-02-02 10:00:00|  069XX W ARCHER AVE|1153|DECEPTIVE PRACTICE|FINANCIAL IDENTIT...|               OTHER| false|   false|0811|     008|  23|            56|      11|2015|04/06/2019 04:04:...|       8| Chicago Lawn|            008|\n",
      "+--------+-----------+-------------------+--------------------+----+------------------+--------------------+--------------------+------+--------+----+--------+----+--------------+--------+----+--------------------+--------+-------------+---------------+\n",
      "only showing top 5 rows\n",
      "\n"
     ]
    }
   ],
   "source": [
    "df.join(ps, df.District == ps.Format_district, 'left_outer').drop( 'ADDRESS',\n",
    " 'CITY',\n",
    " 'STATE',\n",
    " 'ZIP',\n",
    " 'WEBSITE',\n",
    " 'PHONE',\n",
    " 'FAX',\n",
    " 'TTY',\n",
    " 'X COORDINATE',\n",
    " 'Y COORDINATE',\n",
    " 'LATITUDE',\n",
    " 'LONGITUDE',\n",
    " 'LOCATION').show(5)"
   ]
  },
  {
   "cell_type": "markdown",
   "id": "f069018f",
   "metadata": {},
   "source": [
    "### Challenge 2"
   ]
  },
  {
   "cell_type": "markdown",
   "id": "c7be79f1",
   "metadata": {},
   "source": [
    "#### Q1. Whats the most frequently reported noncriminal activity?"
   ]
  },
  {
   "cell_type": "code",
   "execution_count": 26,
   "id": "ced4a2d8",
   "metadata": {},
   "outputs": [
    {
     "data": {
      "text/plain": [
       "['ID',\n",
       " 'Case Number',\n",
       " 'Date',\n",
       " 'Block',\n",
       " 'IUCR',\n",
       " 'Primary Type',\n",
       " 'Description',\n",
       " 'Location Description',\n",
       " 'Arrest',\n",
       " 'Domestic',\n",
       " 'Beat',\n",
       " 'District',\n",
       " 'Ward',\n",
       " 'Community Area',\n",
       " 'FBI Code',\n",
       " 'X Coordinate',\n",
       " 'Y Coordinate',\n",
       " 'Year',\n",
       " 'Updated On',\n",
       " 'Latitude',\n",
       " 'Longitude',\n",
       " 'Location']"
      ]
     },
     "execution_count": 26,
     "metadata": {},
     "output_type": "execute_result"
    }
   ],
   "source": [
    "df.columns"
   ]
  },
  {
   "cell_type": "code",
   "execution_count": 30,
   "id": "b1353dd9",
   "metadata": {},
   "outputs": [
    {
     "data": {
      "text/plain": [
       "36"
      ]
     },
     "execution_count": 30,
     "metadata": {},
     "output_type": "execute_result"
    }
   ],
   "source": [
    "df.select('Primary Type').distinct().count()"
   ]
  },
  {
   "cell_type": "markdown",
   "id": "a02016c7",
   "metadata": {},
   "source": [
    "Total 36 unique crime type"
   ]
  },
  {
   "cell_type": "code",
   "execution_count": 35,
   "id": "bb6e5978",
   "metadata": {},
   "outputs": [
    {
     "name": "stdout",
     "output_type": "stream",
     "text": [
      "+---------------------------------+\n",
      "|Primary Type                     |\n",
      "+---------------------------------+\n",
      "|ARSON                            |\n",
      "|ASSAULT                          |\n",
      "|BATTERY                          |\n",
      "|BURGLARY                         |\n",
      "|CONCEALED CARRY LICENSE VIOLATION|\n",
      "|CRIM SEXUAL ASSAULT              |\n",
      "|CRIMINAL DAMAGE                  |\n",
      "|CRIMINAL SEXUAL ASSAULT          |\n",
      "|CRIMINAL TRESPASS                |\n",
      "|DECEPTIVE PRACTICE               |\n",
      "|DOMESTIC VIOLENCE                |\n",
      "|GAMBLING                         |\n",
      "|HOMICIDE                         |\n",
      "|HUMAN TRAFFICKING                |\n",
      "|INTERFERENCE WITH PUBLIC OFFICER |\n",
      "|INTIMIDATION                     |\n",
      "|KIDNAPPING                       |\n",
      "|LIQUOR LAW VIOLATION             |\n",
      "|MOTOR VEHICLE THEFT              |\n",
      "|NARCOTICS                        |\n",
      "|NON - CRIMINAL                   |\n",
      "|NON-CRIMINAL                     |\n",
      "|NON-CRIMINAL (SUBJECT SPECIFIED) |\n",
      "|OBSCENITY                        |\n",
      "|OFFENSE INVOLVING CHILDREN       |\n",
      "|OTHER NARCOTIC VIOLATION         |\n",
      "|OTHER OFFENSE                    |\n",
      "|PROSTITUTION                     |\n",
      "|PUBLIC INDECENCY                 |\n",
      "|PUBLIC PEACE VIOLATION           |\n",
      "|RITUALISM                        |\n",
      "|ROBBERY                          |\n",
      "|SEX OFFENSE                      |\n",
      "|STALKING                         |\n",
      "|THEFT                            |\n",
      "|WEAPONS VIOLATION                |\n",
      "+---------------------------------+\n",
      "\n"
     ]
    }
   ],
   "source": [
    "df.select('Primary Type').distinct().sort(col('Primary Type')).show(36, truncate=False)"
   ]
  },
  {
   "cell_type": "markdown",
   "id": "87d8b2f5",
   "metadata": {},
   "source": [
    "Non Criminal Types:\n",
    "1. NON - CRIMINAL\n",
    "2. NON-CRIMINAL\n",
    "3. NON-CRIMINAL (SUBJECT SPECIFIED)"
   ]
  },
  {
   "cell_type": "code",
   "execution_count": 37,
   "id": "1a758291",
   "metadata": {},
   "outputs": [
    {
     "name": "stdout",
     "output_type": "stream",
     "text": [
      "+--------+--------------+-------------------------------------------+-------------------+\n",
      "|ID      |Primary Type  |Description                                |Date               |\n",
      "+--------+--------------+-------------------------------------------+-------------------+\n",
      "|11249289|NON-CRIMINAL  |LOST PASSPORT                              |2016-12-23 12:00:00|\n",
      "|10813751|NON-CRIMINAL  |LOST PASSPORT                              |2003-03-17 20:00:00|\n",
      "|10625887|NON-CRIMINAL  |LOST PASSPORT                              |2016-08-02 09:00:00|\n",
      "|10686750|NON-CRIMINAL  |LOST PASSPORT                              |2016-09-17 10:00:00|\n",
      "|11397021|NON-CRIMINAL  |LOST PASSPORT                              |2017-10-30 09:00:00|\n",
      "|11420921|NON-CRIMINAL  |LOST PASSPORT                              |2015-12-13 14:34:00|\n",
      "|10579978|NON-CRIMINAL  |LOST PASSPORT                              |2015-12-25 09:00:00|\n",
      "|10422305|NON-CRIMINAL  |LOST PASSPORT                              |2009-02-22 08:00:00|\n",
      "|10828494|NON-CRIMINAL  |LOST PASSPORT                              |2014-10-17 13:05:00|\n",
      "|10316326|NON-CRIMINAL  |FOID - REVOCATION                          |2015-11-17 19:30:00|\n",
      "|10385966|NON-CRIMINAL  |LOST PASSPORT                              |2015-11-20 15:00:00|\n",
      "|10212100|NON-CRIMINAL  |NOTIFICATION OF STALKING - NO CONTACT ORDER|2015-08-26 17:45:00|\n",
      "|10062441|NON - CRIMINAL|FOID - REVOCATION                          |2015-05-07 13:20:00|\n",
      "|10064717|NON - CRIMINAL|FOID - REVOCATION                          |2015-05-08 13:15:00|\n",
      "|10072565|NON - CRIMINAL|FOID - REVOCATION                          |2015-05-14 10:30:00|\n",
      "|10109156|NON - CRIMINAL|FOID - REVOCATION                          |2015-06-12 09:00:00|\n",
      "|10115077|NON - CRIMINAL|FOID - REVOCATION                          |2015-06-16 19:00:00|\n",
      "|10124614|NON - CRIMINAL|FOID - REVOCATION                          |2015-06-23 17:05:00|\n",
      "|10125981|NON - CRIMINAL|FOID - REVOCATION                          |2015-06-24 15:30:00|\n",
      "|10127418|NON - CRIMINAL|FOID - REVOCATION                          |2015-06-25 15:30:00|\n",
      "|10127785|NON - CRIMINAL|FOID - REVOCATION                          |2015-06-25 22:45:00|\n",
      "|10128364|NON - CRIMINAL|FOID - REVOCATION                          |2015-06-26 10:45:00|\n",
      "|10132522|NON-CRIMINAL  |CONCEALED CARRY LICENSE REVOCATION         |2015-06-29 22:23:00|\n",
      "|10157940|NON-CRIMINAL  |LOST PASSPORT                              |2015-07-08 10:30:00|\n",
      "|10181019|NON - CRIMINAL|FOID - REVOCATION                          |2015-08-01 10:15:00|\n",
      "|10202049|NON - CRIMINAL|FOID - REVOCATION                          |2015-08-19 18:38:00|\n",
      "|10213039|NON-CRIMINAL  |LOST PASSPORT                              |2015-08-26 11:45:00|\n",
      "|10221247|NON - CRIMINAL|FOID - REVOCATION                          |2015-09-01 22:00:00|\n",
      "|10233370|NON - CRIMINAL|FOID - REVOCATION                          |2015-09-13 10:45:00|\n",
      "|10241515|NON - CRIMINAL|FOID - REVOCATION                          |2015-09-19 07:45:00|\n",
      "+--------+--------------+-------------------------------------------+-------------------+\n",
      "only showing top 30 rows\n",
      "\n"
     ]
    }
   ],
   "source": [
    "# get the non-criminal data\n",
    "\n",
    "nc = df.filter( (col('Primary Type') == 'NON - CRIMINAL') | (col('Primary Type') == 'NON-CRIMINAL') | (col('Primary Type') == 'NON-CRIMINAL (SUBJECT SPECIFIED)') )\n",
    "\n",
    "nc.select('ID', 'Primary Type', 'Description', 'Date').show(30, truncate=False)"
   ]
  },
  {
   "cell_type": "code",
   "execution_count": 40,
   "id": "82e5add8",
   "metadata": {},
   "outputs": [
    {
     "name": "stdout",
     "output_type": "stream",
     "text": [
      "+-------------------------------------------+-----+\n",
      "|Description                                |count|\n",
      "+-------------------------------------------+-----+\n",
      "|LOST PASSPORT                              |107  |\n",
      "|FOID - REVOCATION                          |75   |\n",
      "|NOTIFICATION OF CIVIL NO CONTACT ORDER     |9    |\n",
      "|NOTIFICATION OF STALKING - NO CONTACT ORDER|8    |\n",
      "|CONCEALED CARRY LICENSE REVOCATION         |4    |\n",
      "|FOUND PASSPORT                             |4    |\n",
      "|GUN OFFENDER NOTIFICATION-NO CONTACT       |3    |\n",
      "+-------------------------------------------+-----+\n",
      "\n"
     ]
    }
   ],
   "source": [
    "nc.groupBy('Description').count().orderBy('count', ascending = False).show(10, truncate=False)"
   ]
  },
  {
   "cell_type": "markdown",
   "id": "9f288813",
   "metadata": {},
   "source": [
    "#### Q2. Which day of weel has most number of reported crime?"
   ]
  },
  {
   "cell_type": "code",
   "execution_count": 42,
   "id": "f2a95320",
   "metadata": {},
   "outputs": [
    {
     "name": "stdout",
     "output_type": "stream",
     "text": [
      "+--------+-------------------+--------+\n",
      "|ID      |Date               |day_name|\n",
      "+--------+-------------------+--------+\n",
      "|11646166|2018-09-01 00:01:00|Saturday|\n",
      "|11645836|2016-05-01 00:25:00|Sunday  |\n",
      "|11243268|2017-01-01 00:01:00|Sunday  |\n",
      "|1896258 |2001-12-15 02:00:00|Saturday|\n",
      "|11645527|2015-02-02 10:00:00|Monday  |\n",
      "|11034701|2001-01-01 11:00:00|Monday  |\n",
      "|10224881|2015-09-03 18:00:00|Thursday|\n",
      "|11449702|2018-07-31 13:30:00|Tuesday |\n",
      "|11645648|2018-01-01 08:00:00|Monday  |\n",
      "|11241640|2017-10-13 09:00:00|Friday  |\n",
      "+--------+-------------------+--------+\n",
      "only showing top 10 rows\n",
      "\n"
     ]
    }
   ],
   "source": [
    "from pyspark.sql.functions import date_format\n",
    "\n",
    "new_df = df.withColumn(\"day_name\", date_format(\"Date\", \"EEEE\"))\n",
    "\n",
    "new_df.select('ID', 'Date', 'day_name').show(10, truncate=False)"
   ]
  },
  {
   "cell_type": "code",
   "execution_count": 46,
   "id": "ca80394d",
   "metadata": {},
   "outputs": [
    {
     "name": "stdout",
     "output_type": "stream",
     "text": [
      "+--------+-------+\n",
      "|day_name|  count|\n",
      "+--------+-------+\n",
      "|  Friday|1017437|\n",
      "+--------+-------+\n",
      "only showing top 1 row\n",
      "\n"
     ]
    }
   ],
   "source": [
    "new_df.groupBy('day_name').count().orderBy('count', ascending = False).show(1)"
   ]
  },
  {
   "cell_type": "code",
   "execution_count": 47,
   "id": "4930bc99",
   "metadata": {},
   "outputs": [
    {
     "data": {
      "text/plain": [
       "[Row(day_name='Wednesday', count=974348),\n",
       " Row(day_name='Tuesday', count=968517),\n",
       " Row(day_name='Friday', count=1017437),\n",
       " Row(day_name='Thursday', count=965089),\n",
       " Row(day_name='Saturday', count=965566),\n",
       " Row(day_name='Monday', count=953214),\n",
       " Row(day_name='Sunday', count=912423)]"
      ]
     },
     "execution_count": 47,
     "metadata": {},
     "output_type": "execute_result"
    }
   ],
   "source": [
    "new_df.groupBy('day_name').count().collect()"
   ]
  },
  {
   "cell_type": "code",
   "execution_count": 51,
   "id": "28cfd614",
   "metadata": {},
   "outputs": [
    {
     "data": {
      "text/plain": [
       "['Wednesday', 'Tuesday', 'Friday', 'Thursday', 'Saturday', 'Monday', 'Sunday']"
      ]
     },
     "execution_count": 51,
     "metadata": {},
     "output_type": "execute_result"
    }
   ],
   "source": [
    "# get the day of the week\n",
    "day_of_week = [x[0] for x in new_df.groupBy('day_name').count().collect()]\n",
    "day_of_week"
   ]
  },
  {
   "cell_type": "code",
   "execution_count": 52,
   "id": "dc54c478",
   "metadata": {},
   "outputs": [
    {
     "data": {
      "text/plain": [
       "[974348, 968517, 1017437, 965089, 965566, 953214, 912423]"
      ]
     },
     "execution_count": 52,
     "metadata": {},
     "output_type": "execute_result"
    }
   ],
   "source": [
    "count_of_each_day = [x[1] for x in new_df.groupBy('day_name').count().collect()]\n",
    "count_of_each_day"
   ]
  },
  {
   "cell_type": "code",
   "execution_count": 53,
   "id": "505b07a8",
   "metadata": {},
   "outputs": [],
   "source": [
    "import pandas as pd\n",
    "import matplotlib.pyplot as plt"
   ]
  },
  {
   "cell_type": "code",
   "execution_count": 54,
   "id": "ede2b6d6",
   "metadata": {},
   "outputs": [
    {
     "data": {
      "text/html": [
       "<div>\n",
       "<style scoped>\n",
       "    .dataframe tbody tr th:only-of-type {\n",
       "        vertical-align: middle;\n",
       "    }\n",
       "\n",
       "    .dataframe tbody tr th {\n",
       "        vertical-align: top;\n",
       "    }\n",
       "\n",
       "    .dataframe thead th {\n",
       "        text-align: right;\n",
       "    }\n",
       "</style>\n",
       "<table border=\"1\" class=\"dataframe\">\n",
       "  <thead>\n",
       "    <tr style=\"text-align: right;\">\n",
       "      <th></th>\n",
       "      <th>Day_of_week</th>\n",
       "      <th>Counts</th>\n",
       "    </tr>\n",
       "  </thead>\n",
       "  <tbody>\n",
       "    <tr>\n",
       "      <th>0</th>\n",
       "      <td>Wednesday</td>\n",
       "      <td>974348</td>\n",
       "    </tr>\n",
       "    <tr>\n",
       "      <th>1</th>\n",
       "      <td>Tuesday</td>\n",
       "      <td>968517</td>\n",
       "    </tr>\n",
       "    <tr>\n",
       "      <th>2</th>\n",
       "      <td>Friday</td>\n",
       "      <td>1017437</td>\n",
       "    </tr>\n",
       "    <tr>\n",
       "      <th>3</th>\n",
       "      <td>Thursday</td>\n",
       "      <td>965089</td>\n",
       "    </tr>\n",
       "    <tr>\n",
       "      <th>4</th>\n",
       "      <td>Saturday</td>\n",
       "      <td>965566</td>\n",
       "    </tr>\n",
       "    <tr>\n",
       "      <th>5</th>\n",
       "      <td>Monday</td>\n",
       "      <td>953214</td>\n",
       "    </tr>\n",
       "    <tr>\n",
       "      <th>6</th>\n",
       "      <td>Sunday</td>\n",
       "      <td>912423</td>\n",
       "    </tr>\n",
       "  </tbody>\n",
       "</table>\n",
       "</div>"
      ],
      "text/plain": [
       "  Day_of_week   Counts\n",
       "0   Wednesday   974348\n",
       "1     Tuesday   968517\n",
       "2      Friday  1017437\n",
       "3    Thursday   965089\n",
       "4    Saturday   965566\n",
       "5      Monday   953214\n",
       "6      Sunday   912423"
      ]
     },
     "execution_count": 54,
     "metadata": {},
     "output_type": "execute_result"
    }
   ],
   "source": [
    "cp = pd.DataFrame({'Day_of_week' : day_of_week, 'Counts' : count_of_each_day})\n",
    "cp.head(7)"
   ]
  },
  {
   "cell_type": "code",
   "execution_count": 56,
   "id": "d2716f2e",
   "metadata": {
    "scrolled": true
   },
   "outputs": [
    {
     "data": {
      "image/png": "[encoded data removed]",
      "text/plain": [
       "<Figure size 640x480 with 1 Axes>"
      ]
     },
     "metadata": {},
     "output_type": "display_data"
    }
   ],
   "source": [
    "cp.sort_values('Counts').plot(kind = 'bar', x='Day_of_week', y = 'Counts')\n",
    "plt.xlabel('Day of Week')\n",
    "plt.ylabel('No. of reported crime')\n",
    "plt.title('No. of reported crimes per day')\n",
    "plt.show()"
   ]
  },
  {
   "cell_type": "code",
   "execution_count": null,
   "id": "ab85cec9",
   "metadata": {},
   "outputs": [],
   "source": []
  }
 ],
 "metadata": {
  "kernelspec": {
   "display_name": "Python 3 (ipykernel)",
   "language": "python",
   "name": "python3"
  },
  "language_info": {
   "codemirror_mode": {
    "name": "ipython",
    "version": 3
   },
   "file_extension": ".py",
   "mimetype": "text/x-python",
   "name": "python",
   "nbconvert_exporter": "python",
   "pygments_lexer": "ipython3",
   "version": "3.11.4"
  }
 },
 "nbformat": 4,
 "nbformat_minor": 5
}
